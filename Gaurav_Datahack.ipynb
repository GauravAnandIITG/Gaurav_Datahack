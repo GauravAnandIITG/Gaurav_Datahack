{
 "cells": [
  {
   "cell_type": "code",
   "execution_count": 15,
   "metadata": {},
   "outputs": [],
   "source": [
    "import pandas as pd\n",
    "from sklearn.model_selection import train_test_split, GridSearchCV\n",
    "from sklearn.ensemble import RandomForestClassifier\n",
    "from sklearn.preprocessing import OneHotEncoder, StandardScaler\n",
    "from sklearn.pipeline import Pipeline\n",
    "from sklearn.compose import ColumnTransformer\n",
    "from sklearn.metrics import roc_auc_score, roc_curve"
   ]
  },
  {
   "cell_type": "code",
   "execution_count": 16,
   "metadata": {},
   "outputs": [],
   "source": [
    "data = pd.read_csv('test_set_features.csv')"
   ]
  },
  {
   "cell_type": "code",
   "execution_count": 17,
   "metadata": {},
   "outputs": [],
   "source": [
    "X = data.drop(['respondent_id', 'doctor_recc_xyz', 'doctor_recc_seasonal'], axis=1)\n",
    "y_xyz = data['doctor_recc_xyz']\n",
    "y_seasonal = data['doctor_recc_seasonal']"
   ]
  },
  {
   "cell_type": "code",
   "execution_count": 19,
   "metadata": {},
   "outputs": [],
   "source": [
    "categorical_features = X.select_dtypes(include=['object']).columns\n",
    "numerical_features = X.select_dtypes(include=['int64', 'float64']).columns"
   ]
  },
  {
   "cell_type": "code",
   "execution_count": 20,
   "metadata": {},
   "outputs": [],
   "source": [
    "categorical_transformer = Pipeline(steps=[\n",
    "    ('onehot', OneHotEncoder(handle_unknown='ignore'))])\n",
    "\n",
    "numerical_transformer = Pipeline(steps=[\n",
    "    ('scaler', StandardScaler())])\n",
    "\n",
    "preprocessor = ColumnTransformer(\n",
    "    transformers=[\n",
    "        ('num', numerical_transformer, numerical_features),\n",
    "        ('cat', categorical_transformer, categorical_features)])"
   ]
  },
  {
   "cell_type": "code",
   "execution_count": 21,
   "metadata": {},
   "outputs": [],
   "source": [
    "model = RandomForestClassifier()"
   ]
  },
  {
   "cell_type": "code",
   "execution_count": 22,
   "metadata": {},
   "outputs": [],
   "source": [
    "pipeline = Pipeline(steps=[('preprocessor', preprocessor),\n",
    "                           ('classifier', model)])"
   ]
  },
  {
   "cell_type": "code",
   "execution_count": 23,
   "metadata": {},
   "outputs": [],
   "source": [
    "\n",
    "mask_xyz = ~y_xyz.isna()\n",
    "X_cleaned_xyz = X[mask_xyz]\n",
    "y_cleaned_xyz = y_xyz[mask_xyz]\n",
    "\n",
    "\n",
    "mask_seasonal = ~y_seasonal.isna()\n",
    "X_cleaned_seasonal = X[mask_seasonal]\n",
    "y_cleaned_seasonal = y_seasonal[mask_seasonal]\n",
    "\n",
    "\n",
    "X_train, X_test, y_train_xyz, y_test_xyz = train_test_split(X_cleaned_xyz, y_cleaned_xyz, test_size=0.2, stratify=y_cleaned_xyz, random_state=42)\n",
    "X_train, X_test, y_train_seasonal, y_test_seasonal = train_test_split(X_cleaned_seasonal, y_cleaned_seasonal, test_size=0.2, stratify=y_cleaned_seasonal, random_state=42)\n"
   ]
  },
  {
   "cell_type": "code",
   "execution_count": 24,
   "metadata": {},
   "outputs": [],
   "source": [
    "pipeline.fit(X_train, y_train_xyz)\n",
    "y_pred_xyz = pipeline.predict_proba(X_test)[:, 1]\n",
    "roc_auc_xyz = roc_auc_score(y_test_xyz, y_pred_xyz)"
   ]
  },
  {
   "cell_type": "code",
   "execution_count": 25,
   "metadata": {},
   "outputs": [],
   "source": [
    "pipeline.fit(X_train, y_train_seasonal)\n",
    "y_pred_seasonal = pipeline.predict_proba(X_test)[:, 1]\n",
    "roc_auc_seasonal = roc_auc_score(y_test_seasonal, y_pred_seasonal)\n"
   ]
  },
  {
   "cell_type": "code",
   "execution_count": 26,
   "metadata": {},
   "outputs": [],
   "source": [
    "predictions_xyz = pipeline.predict_proba(X)[:, 1]\n",
    "predictions_seasonal = pipeline.predict_proba(X)[:, 1]"
   ]
  },
  {
   "cell_type": "code",
   "execution_count": 27,
   "metadata": {},
   "outputs": [],
   "source": [
    "Gaurav_datahack = pd.DataFrame({\n",
    "    'respondent_id': data['respondent_id'],\n",
    "    'xyz_vaccine': predictions_xyz,\n",
    "    'seasonal_vaccine': predictions_seasonal\n",
    "})\n",
    "\n",
    "Gaurav_datahack.to_csv('Gaurav_datahack.csv', index=False)"
   ]
  }
 ],
 "metadata": {
  "kernelspec": {
   "display_name": "Python 3",
   "language": "python",
   "name": "python3"
  },
  "language_info": {
   "codemirror_mode": {
    "name": "ipython",
    "version": 3
   },
   "file_extension": ".py",
   "mimetype": "text/x-python",
   "name": "python",
   "nbconvert_exporter": "python",
   "pygments_lexer": "ipython3",
   "version": "3.12.3"
  }
 },
 "nbformat": 4,
 "nbformat_minor": 2
}
